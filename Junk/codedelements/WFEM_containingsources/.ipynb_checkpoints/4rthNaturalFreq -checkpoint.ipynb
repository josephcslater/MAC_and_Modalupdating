{
 "cells": [
  {
   "cell_type": "markdown",
   "metadata": {},
   "source": [
    "# Modal Analysis of a Wing"
   ]
  },
  {
   "cell_type": "code",
   "execution_count": 1,
   "metadata": {
    "collapsed": true
   },
   "outputs": [],
   "source": [
    "clear all\n",
    "close all\n",
    "clc\n",
    "%imatlab_export_fig('print-png')"
   ]
  },
  {
   "cell_type": "markdown",
   "metadata": {},
   "source": [
    "At first natural frequency for all 18 points on the wing\n",
    "--"
   ]
  },
  {
   "cell_type": "code",
   "execution_count": 2,
   "metadata": {
    "collapsed": true
   },
   "outputs": [],
   "source": [
    "load FRF1.mat\n",
    "load Frequencies.mat\n",
    "H=20*log10(abs(x1));% in dB\n",
    "f=Frequencies; % in Hz\n",
    "plot(f, H)"
   ]
  },
  {
   "cell_type": "code",
   "execution_count": 3,
   "metadata": {},
   "outputs": [
    {
     "name": "stdout",
     "output_type": "stream",
     "text": [
      "\n",
      "z =\n",
      "\n",
      "    0.0016\n",
      "\n",
      "\n",
      "nf =\n",
      "\n",
      "  167.7479\n",
      "\n",
      "\n",
      "u418 =\n",
      "\n",
      " -26.9769 + 0.0000i\n",
      "\n"
     ]
    }
   ],
   "source": [
    "load FRF18.mat\n",
    "load Frequencies.mat\n",
    "[z,nf,u418]=vtb7_4(Frequencies,x18,166,168)"
   ]
  },
  {
   "cell_type": "code",
   "execution_count": 4,
   "metadata": {},
   "outputs": [
    {
     "name": "stdout",
     "output_type": "stream",
     "text": [
      "\n",
      "z =\n",
      "\n",
      "    0.0057\n",
      "\n",
      "\n",
      "nf =\n",
      "\n",
      "  167.6953\n",
      "\n",
      "\n",
      "u417 =\n",
      "\n",
      "   6.7558 - 0.0000i\n",
      "\n"
     ]
    }
   ],
   "source": [
    "load FRF17.mat\n",
    "load Frequencies.mat\n",
    "\n",
    "[z,nf,u417]=vtb7_4(Frequencies,x17,167.5,168)"
   ]
  },
  {
   "cell_type": "code",
   "execution_count": 5,
   "metadata": {},
   "outputs": [
    {
     "name": "stdout",
     "output_type": "stream",
     "text": [
      "\n",
      "z =\n",
      "\n",
      "    0.0016\n",
      "\n",
      "\n",
      "nf =\n",
      "\n",
      "  167.7576\n",
      "\n",
      "\n",
      "u416 =\n",
      "\n",
      "  27.0095 - 0.0000i\n",
      "\n"
     ]
    }
   ],
   "source": [
    "load FRF16.mat\n",
    "load Frequencies.mat\n",
    "\n",
    "[z,nf,u416]=vtb7_4(Frequencies,x16,166,168)"
   ]
  },
  {
   "cell_type": "code",
   "execution_count": 6,
   "metadata": {},
   "outputs": [
    {
     "name": "stdout",
     "output_type": "stream",
     "text": [
      "\n",
      "z =\n",
      "\n",
      "    0.0016\n",
      "\n",
      "\n",
      "nf =\n",
      "\n",
      "  167.7683\n",
      "\n",
      "\n",
      "u415 =\n",
      "\n",
      " -57.7409 - 0.0000i\n",
      "\n"
     ]
    }
   ],
   "source": [
    "load FRF15.mat\n",
    "load Frequencies.mat\n",
    "\n",
    "[z,nf,u415]=vtb7_4(Frequencies,x15,166,177)"
   ]
  },
  {
   "cell_type": "code",
   "execution_count": 7,
   "metadata": {},
   "outputs": [
    {
     "name": "stdout",
     "output_type": "stream",
     "text": [
      "\n",
      "z =\n",
      "\n",
      "    0.0015\n",
      "\n",
      "\n",
      "nf =\n",
      "\n",
      "  167.7212\n",
      "\n",
      "\n",
      "u414 =\n",
      "\n",
      "  16.0369 + 0.0000i\n",
      "\n"
     ]
    }
   ],
   "source": [
    "load FRF14.mat\n",
    "load Frequencies.mat\n",
    "\n",
    "[z,nf,u414]=vtb7_4(Frequencies,x14,166,168)"
   ]
  },
  {
   "cell_type": "code",
   "execution_count": 8,
   "metadata": {},
   "outputs": [
    {
     "name": "stdout",
     "output_type": "stream",
     "text": [
      "\n",
      "z =\n",
      "\n",
      "    0.0015\n",
      "\n",
      "\n",
      "nf =\n",
      "\n",
      "  167.7615\n",
      "\n",
      "\n",
      "u413 =\n",
      "\n",
      "  58.6297 - 0.0000i\n",
      "\n"
     ]
    }
   ],
   "source": [
    "load FRF13.mat\n",
    "load Frequencies.mat\n",
    "\n",
    "[z,nf,u413]=vtb7_4(Frequencies,x13,167,168)"
   ]
  },
  {
   "cell_type": "code",
   "execution_count": 9,
   "metadata": {},
   "outputs": [
    {
     "name": "stdout",
     "output_type": "stream",
     "text": [
      "\n",
      "z =\n",
      "\n",
      "    0.0016\n",
      "\n",
      "\n",
      "nf =\n",
      "\n",
      "  167.7690\n",
      "\n",
      "\n",
      "u412 =\n",
      "\n",
      " -75.8177 - 0.0000i\n",
      "\n"
     ]
    }
   ],
   "source": [
    "load FRF12.mat\n",
    "load Frequencies.mat\n",
    "\n",
    "[z,nf,u412]=vtb7_4(Frequencies,x12,167,168)"
   ]
  },
  {
   "cell_type": "code",
   "execution_count": 10,
   "metadata": {},
   "outputs": [
    {
     "name": "stdout",
     "output_type": "stream",
     "text": [
      "\n",
      "z =\n",
      "\n",
      "    0.0016\n",
      "\n",
      "\n",
      "nf =\n",
      "\n",
      "  167.7901\n",
      "\n",
      "\n",
      "u411 =\n",
      "\n",
      "  20.1857 + 0.0000i\n",
      "\n"
     ]
    }
   ],
   "source": [
    "load FRF11.mat\n",
    "load Frequencies.mat\n",
    "\n",
    "[z,nf,u411]=vtb7_4(Frequencies,x11,167,168)"
   ]
  },
  {
   "cell_type": "code",
   "execution_count": 11,
   "metadata": {},
   "outputs": [
    {
     "name": "stdout",
     "output_type": "stream",
     "text": [
      "\n",
      "z =\n",
      "\n",
      "    0.0016\n",
      "\n",
      "\n",
      "nf =\n",
      "\n",
      "  167.7634\n",
      "\n",
      "\n",
      "u410 =\n",
      "\n",
      "  84.3382 - 0.0000i\n",
      "\n"
     ]
    }
   ],
   "source": [
    "load FRF10.mat\n",
    "load Frequencies.mat\n",
    "\n",
    "[z,nf,u410]=vtb7_4(Frequencies,x10,167,168)"
   ]
  },
  {
   "cell_type": "code",
   "execution_count": 12,
   "metadata": {},
   "outputs": [
    {
     "name": "stdout",
     "output_type": "stream",
     "text": [
      "\n",
      "z =\n",
      "\n",
      "    0.0016\n",
      "\n",
      "\n",
      "nf =\n",
      "\n",
      "  167.7680\n",
      "\n",
      "\n",
      "u49 =\n",
      "\n",
      " -88.2444 + 0.0000i\n",
      "\n"
     ]
    }
   ],
   "source": [
    "load FRF9.mat\n",
    "load Frequencies.mat\n",
    "\n",
    "[z,nf,u49]=vtb7_4(Frequencies,x9,167,168)"
   ]
  },
  {
   "cell_type": "code",
   "execution_count": 13,
   "metadata": {},
   "outputs": [
    {
     "name": "stdout",
     "output_type": "stream",
     "text": [
      "\n",
      "z =\n",
      "\n",
      "    0.0016\n",
      "\n",
      "\n",
      "nf =\n",
      "\n",
      "  167.7685\n",
      "\n",
      "\n",
      "u48 =\n",
      "\n",
      "  37.8817 + 0.0000i\n",
      "\n"
     ]
    }
   ],
   "source": [
    "load FRF8.mat\n",
    "load Frequencies.mat\n",
    "\n",
    "[z,nf,u48]=vtb7_4(Frequencies,x8,167,168)"
   ]
  },
  {
   "cell_type": "code",
   "execution_count": 14,
   "metadata": {},
   "outputs": [
    {
     "name": "stdout",
     "output_type": "stream",
     "text": [
      "\n",
      "z =\n",
      "\n",
      "    0.0016\n",
      "\n",
      "\n",
      "nf =\n",
      "\n",
      "  167.7647\n",
      "\n",
      "\n",
      "u47 =\n",
      "\n",
      "   1.0123e+02 - 4.5205e-12i\n",
      "\n"
     ]
    }
   ],
   "source": [
    "load FRF7.mat\n",
    "load Frequencies.mat\n",
    "\n",
    "[z,nf,u47]=vtb7_4(Frequencies,x7,167,168)"
   ]
  },
  {
   "cell_type": "code",
   "execution_count": 15,
   "metadata": {},
   "outputs": [
    {
     "name": "stdout",
     "output_type": "stream",
     "text": [
      "\n",
      "z =\n",
      "\n",
      "    0.0016\n",
      "\n",
      "\n",
      "nf =\n",
      "\n",
      "  167.7677\n",
      "\n",
      "\n",
      "u46 =\n",
      "\n",
      " -97.1402 + 0.0000i\n",
      "\n"
     ]
    }
   ],
   "source": [
    "load FRF6.mat\n",
    "load Frequencies.mat\n",
    "\n",
    "[z,nf,u46]=vtb7_4(Frequencies,x6,167,168)"
   ]
  },
  {
   "cell_type": "code",
   "execution_count": 16,
   "metadata": {},
   "outputs": [
    {
     "name": "stdout",
     "output_type": "stream",
     "text": [
      "\n",
      "z =\n",
      "\n",
      "    0.0016\n",
      "\n",
      "\n",
      "nf =\n",
      "\n",
      "  167.7647\n",
      "\n",
      "\n",
      "u45 =\n",
      "\n",
      "  34.4943 - 0.0000i\n",
      "\n"
     ]
    }
   ],
   "source": [
    "load FRF5.mat\n",
    "load Frequencies.mat\n",
    "\n",
    "[z,nf,u45]=vtb7_4(Frequencies,x5,167,168)"
   ]
  },
  {
   "cell_type": "code",
   "execution_count": 17,
   "metadata": {},
   "outputs": [
    {
     "name": "stdout",
     "output_type": "stream",
     "text": [
      "\n",
      "z =\n",
      "\n",
      "    0.0016\n",
      "\n",
      "\n",
      "nf =\n",
      "\n",
      "  167.7671\n",
      "\n",
      "\n",
      "u44 =\n",
      "\n",
      "   1.1243e+02 - 3.5551e-13i\n",
      "\n"
     ]
    }
   ],
   "source": [
    "load FRF4.mat\n",
    "load Frequencies.mat\n",
    "\n",
    "[z,nf,u44]=vtb7_4(Frequencies,x4,167,168)"
   ]
  },
  {
   "cell_type": "code",
   "execution_count": 18,
   "metadata": {},
   "outputs": [
    {
     "name": "stdout",
     "output_type": "stream",
     "text": [
      "\n",
      "z =\n",
      "\n",
      "    0.0016\n",
      "\n",
      "\n",
      "nf =\n",
      "\n",
      "  167.7659\n",
      "\n",
      "\n",
      "u43 =\n",
      "\n",
      " -99.1592 + 0.0000i\n",
      "\n"
     ]
    }
   ],
   "source": [
    "load FRF3.mat\n",
    "load Frequencies.mat\n",
    "\n",
    "[z,nf,u43]=vtb7_4(Frequencies,x3,167,168)"
   ]
  },
  {
   "cell_type": "code",
   "execution_count": 19,
   "metadata": {},
   "outputs": [
    {
     "name": "stdout",
     "output_type": "stream",
     "text": [
      "\n",
      "z =\n",
      "\n",
      "    0.0015\n",
      "\n",
      "\n",
      "nf =\n",
      "\n",
      "  167.8273\n",
      "\n",
      "\n",
      "u42 =\n",
      "\n",
      "  -7.8334 - 0.0000i\n",
      "\n"
     ]
    }
   ],
   "source": [
    "load FRF2.mat\n",
    "load Frequencies.mat\n",
    "\n",
    "[z,nf,u42]=vtb7_4(Frequencies,x2,167.5,168)"
   ]
  },
  {
   "cell_type": "code",
   "execution_count": 20,
   "metadata": {},
   "outputs": [
    {
     "name": "stdout",
     "output_type": "stream",
     "text": [
      "\n",
      "z =\n",
      "\n",
      "    0.0016\n",
      "\n",
      "\n",
      "nf =\n",
      "\n",
      "  167.7670\n",
      "\n",
      "\n",
      "u41 =\n",
      "\n",
      "   1.0721e+02 - 5.0584e-12i\n",
      "\n"
     ]
    }
   ],
   "source": [
    "load FRF1.mat\n",
    "load Frequencies.mat\n",
    "\n",
    "[z,nf,u41]=vtb7_4(Frequencies,x1,167,168)"
   ]
  },
  {
   "cell_type": "code",
   "execution_count": 21,
   "metadata": {},
   "outputs": [
    {
     "name": "stdout",
     "output_type": "stream",
     "text": [
      "\n",
      "U4 =\n",
      "\n",
      "   1.0e+02 *\n",
      "\n",
      "   1.0721 + 0.0000i\n",
      "  -0.0783 + 0.0000i\n",
      "  -0.9916 - 0.0000i\n",
      "   1.1243 + 0.0000i\n",
      "   0.3449 + 0.0000i\n",
      "  -0.9714 - 0.0000i\n",
      "   1.0123 + 0.0000i\n",
      "   0.3788 - 0.0000i\n",
      "  -0.8824 - 0.0000i\n",
      "   0.8434 + 0.0000i\n",
      "   0.2019 - 0.0000i\n",
      "  -0.7582 + 0.0000i\n",
      "   0.5863 + 0.0000i\n",
      "   0.1604 - 0.0000i\n",
      "  -0.5774 + 0.0000i\n",
      "   0.2701 + 0.0000i\n",
      "   0.0676 + 0.0000i\n",
      "  -0.2698 - 0.0000i\n",
      "\n",
      "\n",
      "s =\n",
      "\n",
      "  107.2101\n",
      "   -7.8334\n",
      "  -99.1592\n",
      "  112.4329\n",
      "   34.4943\n",
      "  -97.1402\n",
      "  101.2253\n",
      "   37.8817\n",
      "  -88.2444\n",
      "   84.3382\n",
      "   20.1857\n",
      "  -75.8177\n",
      "   58.6297\n",
      "   16.0369\n",
      "  -57.7409\n",
      "   27.0095\n",
      "    6.7558\n",
      "  -26.9769\n",
      "\n"
     ]
    }
   ],
   "source": [
    "U4=[u41 u42 u43 u44 u45 u46 u47 u48 u49 u410 u411 u412 u413 u414 u415 u416 u417 u418]'\n",
    "s=real(U4)"
   ]
  },
  {
   "cell_type": "code",
   "execution_count": 22,
   "metadata": {
    "collapsed": true
   },
   "outputs": [],
   "source": [
    "save 4rthNaturalFreq U4"
   ]
  },
  {
   "cell_type": "code",
   "execution_count": null,
   "metadata": {
    "collapsed": true
   },
   "outputs": [],
   "source": []
  },
  {
   "cell_type": "code",
   "execution_count": null,
   "metadata": {
    "collapsed": true
   },
   "outputs": [],
   "source": []
  }
 ],
 "metadata": {
  "kernelspec": {
   "display_name": "MATLAB",
   "language": "matlab",
   "name": "imatlab"
  },
  "language_info": {
   "codemirror_mode": "octave",
   "file_extension": ".m",
   "mimetype": "text/x-matlab",
   "name": "matlab",
   "nbconvert_exporter": "imatlab._exporter.MatlabExporter",
   "pygments_lexer": "matlab",
   "version": "9.2.0.556344 (R2017a)"
  }
 },
 "nbformat": 4,
 "nbformat_minor": 2
}
