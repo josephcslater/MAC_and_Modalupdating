{
 "cells": [
  {
   "cell_type": "markdown",
   "metadata": {},
   "source": [
    "# Modal Analysis of a Wing"
   ]
  },
  {
   "cell_type": "code",
   "execution_count": 1,
   "metadata": {
    "collapsed": true
   },
   "outputs": [],
   "source": [
    "clear all\n",
    "close all\n",
    "clc\n",
    "%imatlab_export_fig('print-png')"
   ]
  },
  {
   "cell_type": "markdown",
   "metadata": {},
   "source": [
    "At first natural frequency for all 18 points on the wing\n",
    "--"
   ]
  },
  {
   "cell_type": "code",
   "execution_count": 2,
   "metadata": {
    "collapsed": true
   },
   "outputs": [],
   "source": [
    "load FRF1.mat\n",
    "load Frequencies.mat\n",
    "H=20*log10(abs(x1));% in dB\n",
    "f=Frequencies; % in Hz\n",
    "plot(f, H)"
   ]
  },
  {
   "cell_type": "code",
   "execution_count": 3,
   "metadata": {},
   "outputs": [
    {
     "name": "stdout",
     "output_type": "stream",
     "text": [
      "\n",
      "z =\n",
      "\n",
      "    0.0044\n",
      "\n",
      "\n",
      "nf =\n",
      "\n",
      "   51.8253\n",
      "\n",
      "\n",
      "u218 =\n",
      "\n",
      "   4.0450 - 0.0000i\n",
      "\n"
     ]
    }
   ],
   "source": [
    "load FRF18.mat\n",
    "load Frequencies.mat\n",
    "[z,nf,u218]=vtb7_4(Frequencies,x18,51.5,52)"
   ]
  },
  {
   "cell_type": "code",
   "execution_count": 4,
   "metadata": {},
   "outputs": [
    {
     "name": "stdout",
     "output_type": "stream",
     "text": [
      "\n",
      "z =\n",
      "\n",
      "    0.0337\n",
      "\n",
      "\n",
      "nf =\n",
      "\n",
      "   51.6461\n",
      "\n",
      "\n",
      "u217 =\n",
      "\n",
      "   7.6143 + 0.0000i\n",
      "\n"
     ]
    }
   ],
   "source": [
    "load FRF17.mat\n",
    "load Frequencies.mat\n",
    "[z,nf,u217]=vtb7_4(Frequencies,x17,51.75,51.9)"
   ]
  },
  {
   "cell_type": "code",
   "execution_count": 5,
   "metadata": {},
   "outputs": [
    {
     "name": "stdout",
     "output_type": "stream",
     "text": [
      "\n",
      "z =\n",
      "\n",
      "    0.0049\n",
      "\n",
      "\n",
      "nf =\n",
      "\n",
      "   51.7734\n",
      "\n",
      "\n",
      "u216 =\n",
      "\n",
      "   4.8623 - 0.0000i\n",
      "\n"
     ]
    }
   ],
   "source": [
    "load FRF16.mat\n",
    "load Frequencies.mat\n",
    "\n",
    "[z,nf,u216]=vtb7_4(Frequencies,x16,51.5,52)"
   ]
  },
  {
   "cell_type": "code",
   "execution_count": 6,
   "metadata": {},
   "outputs": [
    {
     "name": "stdout",
     "output_type": "stream",
     "text": [
      "\n",
      "z =\n",
      "\n",
      "    0.0046\n",
      "\n",
      "\n",
      "nf =\n",
      "\n",
      "   51.7791\n",
      "\n",
      "\n",
      "u215 =\n",
      "\n",
      "  12.3028 + 0.0000i\n",
      "\n"
     ]
    }
   ],
   "source": [
    "load FRF15.mat\n",
    "load Frequencies.mat\n",
    "\n",
    "[z,nf,u215]=vtb7_4(Frequencies,x15,50,55)"
   ]
  },
  {
   "cell_type": "code",
   "execution_count": 7,
   "metadata": {},
   "outputs": [
    {
     "name": "stdout",
     "output_type": "stream",
     "text": [
      "\n",
      "z =\n",
      "\n",
      "    0.0047\n",
      "\n",
      "\n",
      "nf =\n",
      "\n",
      "   51.8123\n",
      "\n",
      "\n",
      "u214 =\n",
      "\n",
      "  12.6223 - 0.0000i\n",
      "\n"
     ]
    }
   ],
   "source": [
    "load FRF14.mat\n",
    "load Frequencies.mat\n",
    "\n",
    "[z,nf,u214]=vtb7_4(Frequencies,x14,50,55)"
   ]
  },
  {
   "cell_type": "code",
   "execution_count": 8,
   "metadata": {},
   "outputs": [
    {
     "name": "stdout",
     "output_type": "stream",
     "text": [
      "\n",
      "z =\n",
      "\n",
      "    0.0052\n",
      "\n",
      "\n",
      "nf =\n",
      "\n",
      "   51.7465\n",
      "\n",
      "\n",
      "u213 =\n",
      "\n",
      "  12.6957 + 0.0000i\n",
      "\n"
     ]
    }
   ],
   "source": [
    "load FRF13.mat\n",
    "load Frequencies.mat\n",
    "\n",
    "[z,nf,u213]=vtb7_4(Frequencies,x13,50,55)"
   ]
  },
  {
   "cell_type": "code",
   "execution_count": 9,
   "metadata": {},
   "outputs": [
    {
     "name": "stdout",
     "output_type": "stream",
     "text": [
      "\n",
      "z =\n",
      "\n",
      "    0.0047\n",
      "\n",
      "\n",
      "nf =\n",
      "\n",
      "   51.8124\n",
      "\n",
      "\n",
      "u212 =\n",
      "\n",
      "  17.4871 + 0.0000i\n",
      "\n"
     ]
    }
   ],
   "source": [
    "load FRF12.mat\n",
    "load Frequencies.mat\n",
    "\n",
    "[z,nf,u212]=vtb7_4(Frequencies,x12,50,55)"
   ]
  },
  {
   "cell_type": "code",
   "execution_count": 10,
   "metadata": {},
   "outputs": [
    {
     "name": "stdout",
     "output_type": "stream",
     "text": [
      "\n",
      "z =\n",
      "\n",
      "    0.0050\n",
      "\n",
      "\n",
      "nf =\n",
      "\n",
      "   51.7897\n",
      "\n",
      "\n",
      "u211 =\n",
      "\n",
      "  17.6982 + 0.0000i\n",
      "\n"
     ]
    }
   ],
   "source": [
    "load FRF11.mat\n",
    "load Frequencies.mat\n",
    "\n",
    "[z,nf,u211]=vtb7_4(Frequencies,x11,50,55)"
   ]
  },
  {
   "cell_type": "code",
   "execution_count": 11,
   "metadata": {},
   "outputs": [
    {
     "name": "stdout",
     "output_type": "stream",
     "text": [
      "\n",
      "z =\n",
      "\n",
      "    0.0047\n",
      "\n",
      "\n",
      "nf =\n",
      "\n",
      "   51.8005\n",
      "\n",
      "\n",
      "u210 =\n",
      "\n",
      "  17.7046 - 0.0000i\n",
      "\n"
     ]
    }
   ],
   "source": [
    "load FRF10.mat\n",
    "load Frequencies.mat\n",
    "\n",
    "[z,nf,u210]=vtb7_4(Frequencies,x10,50,55)"
   ]
  },
  {
   "cell_type": "code",
   "execution_count": 12,
   "metadata": {},
   "outputs": [
    {
     "name": "stdout",
     "output_type": "stream",
     "text": [
      "\n",
      "z =\n",
      "\n",
      "    0.0056\n",
      "\n",
      "\n",
      "nf =\n",
      "\n",
      "   51.8007\n",
      "\n",
      "\n",
      "u29 =\n",
      "\n",
      "  17.9225 - 0.0000i\n",
      "\n"
     ]
    }
   ],
   "source": [
    "load FRF9.mat\n",
    "load Frequencies.mat\n",
    "\n",
    "[z,nf,u29]=vtb7_4(Frequencies,x9,50,55)"
   ]
  },
  {
   "cell_type": "code",
   "execution_count": 13,
   "metadata": {},
   "outputs": [
    {
     "name": "stdout",
     "output_type": "stream",
     "text": [
      "\n",
      "z =\n",
      "\n",
      "    0.0047\n",
      "\n",
      "\n",
      "nf =\n",
      "\n",
      "   51.7930\n",
      "\n",
      "\n",
      "u28 =\n",
      "\n",
      "  17.1589 + 0.0000i\n",
      "\n"
     ]
    }
   ],
   "source": [
    "load FRF8.mat\n",
    "load Frequencies.mat\n",
    "\n",
    "[z,nf,u28]=vtb7_4(Frequencies,x8,50,55)"
   ]
  },
  {
   "cell_type": "code",
   "execution_count": 14,
   "metadata": {},
   "outputs": [
    {
     "name": "stdout",
     "output_type": "stream",
     "text": [
      "\n",
      "z =\n",
      "\n",
      "    0.0055\n",
      "\n",
      "\n",
      "nf =\n",
      "\n",
      "   51.8165\n",
      "\n",
      "\n",
      "u27 =\n",
      "\n",
      "  17.9836 + 0.0000i\n",
      "\n"
     ]
    }
   ],
   "source": [
    "load FRF7.mat\n",
    "load Frequencies.mat\n",
    "\n",
    "[z,nf,u27]=vtb7_4(Frequencies,x7,50,55)"
   ]
  },
  {
   "cell_type": "code",
   "execution_count": 15,
   "metadata": {},
   "outputs": [
    {
     "name": "stdout",
     "output_type": "stream",
     "text": [
      "\n",
      "z =\n",
      "\n",
      "    0.0050\n",
      "\n",
      "\n",
      "nf =\n",
      "\n",
      "   51.7825\n",
      "\n",
      "\n",
      "u26 =\n",
      "\n",
      "  -7.7927 - 0.0000i\n",
      "\n"
     ]
    }
   ],
   "source": [
    "load FRF6.mat\n",
    "load Frequencies.mat\n",
    "\n",
    "[z,nf,u26]=vtb7_4(Frequencies,x6,50,52.5)"
   ]
  },
  {
   "cell_type": "code",
   "execution_count": 16,
   "metadata": {},
   "outputs": [
    {
     "name": "stdout",
     "output_type": "stream",
     "text": [
      "\n",
      "z =\n",
      "\n",
      "    0.0045\n",
      "\n",
      "\n",
      "nf =\n",
      "\n",
      "   51.7579\n",
      "\n",
      "\n",
      "u25 =\n",
      "\n",
      "  -8.5504 + 0.0000i\n",
      "\n"
     ]
    }
   ],
   "source": [
    "load FRF5.mat\n",
    "load Frequencies.mat\n",
    "\n",
    "[z,nf,u25]=vtb7_4(Frequencies,x5,50,55)"
   ]
  },
  {
   "cell_type": "code",
   "execution_count": 17,
   "metadata": {},
   "outputs": [
    {
     "name": "stdout",
     "output_type": "stream",
     "text": [
      "\n",
      "z =\n",
      "\n",
      "    0.0035\n",
      "\n",
      "\n",
      "nf =\n",
      "\n",
      "   51.8001\n",
      "\n",
      "\n",
      "u24 =\n",
      "\n",
      "  -7.3076 - 0.0000i\n",
      "\n"
     ]
    }
   ],
   "source": [
    "load FRF4.mat\n",
    "load Frequencies.mat\n",
    "\n",
    "[z,nf,u24]=vtb7_4(Frequencies,x4,50,53)"
   ]
  },
  {
   "cell_type": "code",
   "execution_count": 18,
   "metadata": {},
   "outputs": [
    {
     "name": "stdout",
     "output_type": "stream",
     "text": [
      "\n",
      "z =\n",
      "\n",
      "    0.0054\n",
      "\n",
      "\n",
      "nf =\n",
      "\n",
      "   51.7826\n",
      "\n",
      "\n",
      "u23 =\n",
      "\n",
      " -25.1219 + 0.0000i\n",
      "\n"
     ]
    }
   ],
   "source": [
    "load FRF3.mat\n",
    "load Frequencies.mat\n",
    "\n",
    "[z,nf,u23]=vtb7_4(Frequencies,x3,50,55)"
   ]
  },
  {
   "cell_type": "code",
   "execution_count": 19,
   "metadata": {},
   "outputs": [
    {
     "name": "stdout",
     "output_type": "stream",
     "text": [
      "\n",
      "z =\n",
      "\n",
      "    0.0051\n",
      "\n",
      "\n",
      "nf =\n",
      "\n",
      "   51.7901\n",
      "\n",
      "\n",
      "u22 =\n",
      "\n",
      " -26.9457 - 0.0000i\n",
      "\n"
     ]
    }
   ],
   "source": [
    "load FRF2.mat\n",
    "load Frequencies.mat\n",
    "\n",
    "[z,nf,u22]=vtb7_4(Frequencies,x2,50,55)"
   ]
  },
  {
   "cell_type": "code",
   "execution_count": 20,
   "metadata": {},
   "outputs": [
    {
     "name": "stdout",
     "output_type": "stream",
     "text": [
      "\n",
      "z =\n",
      "\n",
      "    0.0052\n",
      "\n",
      "\n",
      "nf =\n",
      "\n",
      "   51.7955\n",
      "\n",
      "\n",
      "u21 =\n",
      "\n",
      " -27.1276 - 0.0000i\n",
      "\n"
     ]
    }
   ],
   "source": [
    "load FRF1.mat\n",
    "load Frequencies.mat\n",
    "\n",
    "[z,nf,u21]=vtb7_4(Frequencies,x1,50,55)"
   ]
  },
  {
   "cell_type": "code",
   "execution_count": 21,
   "metadata": {},
   "outputs": [
    {
     "name": "stdout",
     "output_type": "stream",
     "text": [
      "\n",
      "U2 =\n",
      "\n",
      " -27.1276 + 0.0000i\n",
      " -26.9457 + 0.0000i\n",
      " -25.1219 - 0.0000i\n",
      "  -7.3076 + 0.0000i\n",
      "  -8.5504 - 0.0000i\n",
      "  -7.7927 + 0.0000i\n",
      "  17.9836 - 0.0000i\n",
      "  17.1589 - 0.0000i\n",
      "  17.9225 + 0.0000i\n",
      "  17.7046 + 0.0000i\n",
      "  17.6982 - 0.0000i\n",
      "  17.4871 - 0.0000i\n",
      "  12.6957 - 0.0000i\n",
      "  12.6223 + 0.0000i\n",
      "  12.3028 - 0.0000i\n",
      "   4.8623 + 0.0000i\n",
      "   7.6143 - 0.0000i\n",
      "   4.0450 + 0.0000i\n",
      "\n"
     ]
    }
   ],
   "source": [
    "U2=[u21 u22 u23 u24 u25 u26 u27 u28 u29 u210 u211 u212 u213 u214 u215 u216 u217 u218]'\n",
    "%s=real(U)"
   ]
  },
  {
   "cell_type": "code",
   "execution_count": 22,
   "metadata": {
    "collapsed": true
   },
   "outputs": [],
   "source": [
    "save 2ndNaturalFreq U2\n"
   ]
  },
  {
   "cell_type": "code",
   "execution_count": null,
   "metadata": {
    "collapsed": true
   },
   "outputs": [],
   "source": []
  }
 ],
 "metadata": {
  "kernelspec": {
   "display_name": "MATLAB",
   "language": "matlab",
   "name": "imatlab"
  },
  "language_info": {
   "codemirror_mode": "octave",
   "file_extension": ".m",
   "mimetype": "text/x-matlab",
   "name": "matlab",
   "nbconvert_exporter": "imatlab._exporter.MatlabExporter",
   "pygments_lexer": "matlab",
   "version": "9.2.0.556344 (R2017a)"
  }
 },
 "nbformat": 4,
 "nbformat_minor": 2
}
