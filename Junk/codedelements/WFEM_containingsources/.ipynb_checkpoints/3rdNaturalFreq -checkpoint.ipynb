{
 "cells": [
  {
   "cell_type": "markdown",
   "metadata": {},
   "source": [
    "# Modal Analysis of a Wing"
   ]
  },
  {
   "cell_type": "code",
   "execution_count": 1,
   "metadata": {
    "collapsed": true
   },
   "outputs": [],
   "source": [
    "clear all\n",
    "close all\n",
    "clc\n",
    "%imatlab_export_fig('print-png')"
   ]
  },
  {
   "cell_type": "markdown",
   "metadata": {},
   "source": [
    "At first natural frequency for all 18 points on the wing\n",
    "--"
   ]
  },
  {
   "cell_type": "code",
   "execution_count": 2,
   "metadata": {
    "collapsed": true
   },
   "outputs": [],
   "source": [
    "load FRF1.mat\n",
    "load Frequencies.mat\n",
    "H=20*log10(abs(x1));% in dB\n",
    "f=Frequencies; % in Hz\n",
    "plot(f, H)"
   ]
  },
  {
   "cell_type": "code",
   "execution_count": 3,
   "metadata": {},
   "outputs": [
    {
     "name": "stdout",
     "output_type": "stream",
     "text": [
      "\n",
      "z =\n",
      "\n",
      "    0.0056\n",
      "\n",
      "\n",
      "nf =\n",
      "\n",
      "  125.0861\n",
      "\n",
      "\n",
      "u318 =\n",
      "\n",
      "  14.3314 + 0.0000i\n",
      "\n"
     ]
    }
   ],
   "source": [
    "load FRF18.mat\n",
    "load Frequencies.mat\n",
    "[z,nf,u318]=vtb7_4(Frequencies,x18,124,126)"
   ]
  },
  {
   "cell_type": "code",
   "execution_count": 4,
   "metadata": {},
   "outputs": [
    {
     "name": "stdout",
     "output_type": "stream",
     "text": [
      "\n",
      "z =\n",
      "\n",
      "    0.0140\n",
      "\n",
      "\n",
      "nf =\n",
      "\n",
      "  125.1229\n",
      "\n",
      "\n",
      "u317 =\n",
      "\n",
      "  20.3010 - 0.0000i\n",
      "\n"
     ]
    }
   ],
   "source": [
    "load FRF17.mat\n",
    "load Frequencies.mat\n",
    "\n",
    "[z,nf,u317]=vtb7_4(Frequencies,x17,124,126)"
   ]
  },
  {
   "cell_type": "code",
   "execution_count": 5,
   "metadata": {},
   "outputs": [
    {
     "name": "stdout",
     "output_type": "stream",
     "text": [
      "\n",
      "z =\n",
      "\n",
      "    0.0053\n",
      "\n",
      "\n",
      "nf =\n",
      "\n",
      "  125.1806\n",
      "\n",
      "\n",
      "u316 =\n",
      "\n",
      "  13.3552 - 0.0000i\n",
      "\n"
     ]
    }
   ],
   "source": [
    "load FRF16.mat\n",
    "load Frequencies.mat\n",
    "\n",
    "[z,nf,u316]=vtb7_4(Frequencies,x16,124,126)"
   ]
  },
  {
   "cell_type": "code",
   "execution_count": 6,
   "metadata": {},
   "outputs": [
    {
     "name": "stdout",
     "output_type": "stream",
     "text": [
      "\n",
      "z =\n",
      "\n",
      "    0.0057\n",
      "\n",
      "\n",
      "nf =\n",
      "\n",
      "  125.2409\n",
      "\n",
      "\n",
      "u315 =\n",
      "\n",
      "  32.7546 + 0.0000i\n",
      "\n"
     ]
    }
   ],
   "source": [
    "load FRF15.mat\n",
    "load Frequencies.mat\n",
    "\n",
    "[z,nf,u315]=vtb7_4(Frequencies,x15,122,127)"
   ]
  },
  {
   "cell_type": "code",
   "execution_count": 7,
   "metadata": {},
   "outputs": [
    {
     "name": "stdout",
     "output_type": "stream",
     "text": [
      "\n",
      "z =\n",
      "\n",
      "    0.0059\n",
      "\n",
      "\n",
      "nf =\n",
      "\n",
      "  125.1701\n",
      "\n",
      "\n",
      "u314 =\n",
      "\n",
      "  34.4364 - 0.0000i\n",
      "\n"
     ]
    }
   ],
   "source": [
    "load FRF14.mat\n",
    "load Frequencies.mat\n",
    "\n",
    "[z,nf,u314]=vtb7_4(Frequencies,x14,122,127)"
   ]
  },
  {
   "cell_type": "code",
   "execution_count": 8,
   "metadata": {},
   "outputs": [
    {
     "name": "stdout",
     "output_type": "stream",
     "text": [
      "\n",
      "z =\n",
      "\n",
      "    0.0053\n",
      "\n",
      "\n",
      "nf =\n",
      "\n",
      "  125.0887\n",
      "\n",
      "\n",
      "u313 =\n",
      "\n",
      "  33.4340 - 0.0000i\n",
      "\n"
     ]
    }
   ],
   "source": [
    "load FRF13.mat\n",
    "load Frequencies.mat\n",
    "\n",
    "[z,nf,u313]=vtb7_4(Frequencies,x13,122,127)"
   ]
  },
  {
   "cell_type": "code",
   "execution_count": 9,
   "metadata": {},
   "outputs": [
    {
     "name": "stdout",
     "output_type": "stream",
     "text": [
      "\n",
      "z =\n",
      "\n",
      "    0.0061\n",
      "\n",
      "\n",
      "nf =\n",
      "\n",
      "  125.2267\n",
      "\n",
      "\n",
      "u312 =\n",
      "\n",
      "  29.0961 + 0.0000i\n",
      "\n"
     ]
    }
   ],
   "source": [
    "load FRF12.mat\n",
    "load Frequencies.mat\n",
    "\n",
    "[z,nf,u312]=vtb7_4(Frequencies,x12,122,127)"
   ]
  },
  {
   "cell_type": "code",
   "execution_count": 10,
   "metadata": {},
   "outputs": [
    {
     "name": "stdout",
     "output_type": "stream",
     "text": [
      "\n",
      "z =\n",
      "\n",
      "    0.0056\n",
      "\n",
      "\n",
      "nf =\n",
      "\n",
      "  125.1047\n",
      "\n",
      "\n",
      "u311 =\n",
      "\n",
      "  28.0879 - 0.0000i\n",
      "\n"
     ]
    }
   ],
   "source": [
    "load FRF11.mat\n",
    "load Frequencies.mat\n",
    "\n",
    "[z,nf,u311]=vtb7_4(Frequencies,x11,122,127)"
   ]
  },
  {
   "cell_type": "code",
   "execution_count": 11,
   "metadata": {},
   "outputs": [
    {
     "name": "stdout",
     "output_type": "stream",
     "text": [
      "\n",
      "z =\n",
      "\n",
      "    0.0049\n",
      "\n",
      "\n",
      "nf =\n",
      "\n",
      "  125.0794\n",
      "\n",
      "\n",
      "u310 =\n",
      "\n",
      "  27.5315 + 0.0000i\n",
      "\n"
     ]
    }
   ],
   "source": [
    "load FRF10.mat\n",
    "load Frequencies.mat\n",
    "\n",
    "[z,nf,u310]=vtb7_4(Frequencies,x10,122,127)"
   ]
  },
  {
   "cell_type": "code",
   "execution_count": 12,
   "metadata": {},
   "outputs": [
    {
     "name": "stdout",
     "output_type": "stream",
     "text": [
      "\n",
      "z =\n",
      "\n",
      "    0.0053\n",
      "\n",
      "\n",
      "nf =\n",
      "\n",
      "  125.1033\n",
      "\n",
      "\n",
      "u39 =\n",
      "\n",
      " -34.0003 - 0.0000i\n",
      "\n"
     ]
    }
   ],
   "source": [
    "load FRF9.mat\n",
    "load Frequencies.mat\n",
    "\n",
    "[z,nf,u39]=vtb7_4(Frequencies,x9,122,127)"
   ]
  },
  {
   "cell_type": "code",
   "execution_count": 13,
   "metadata": {},
   "outputs": [
    {
     "name": "stdout",
     "output_type": "stream",
     "text": [
      "\n",
      "z =\n",
      "\n",
      "    0.0061\n",
      "\n",
      "\n",
      "nf =\n",
      "\n",
      "  125.2302\n",
      "\n",
      "\n",
      "u38 =\n",
      "\n",
      " -35.6752 - 0.0000i\n",
      "\n"
     ]
    }
   ],
   "source": [
    "load FRF8.mat\n",
    "load Frequencies.mat\n",
    "\n",
    "[z,nf,u38]=vtb7_4(Frequencies,x8,122,127)"
   ]
  },
  {
   "cell_type": "code",
   "execution_count": 14,
   "metadata": {},
   "outputs": [
    {
     "name": "stdout",
     "output_type": "stream",
     "text": [
      "\n",
      "z =\n",
      "\n",
      "    0.0059\n",
      "\n",
      "\n",
      "nf =\n",
      "\n",
      "  125.1894\n",
      "\n",
      "\n",
      "u37 =\n",
      "\n",
      " -33.8779 - 0.0000i\n",
      "\n"
     ]
    }
   ],
   "source": [
    "load FRF7.mat\n",
    "load Frequencies.mat\n",
    "\n",
    "[z,nf,u37]=vtb7_4(Frequencies,x7,122,127)"
   ]
  },
  {
   "cell_type": "code",
   "execution_count": 15,
   "metadata": {},
   "outputs": [
    {
     "name": "stdout",
     "output_type": "stream",
     "text": [
      "\n",
      "z =\n",
      "\n",
      "    0.0058\n",
      "\n",
      "\n",
      "nf =\n",
      "\n",
      "  125.2099\n",
      "\n",
      "\n",
      "u36 =\n",
      "\n",
      " -38.9035 + 0.0000i\n",
      "\n"
     ]
    }
   ],
   "source": [
    "load FRF6.mat\n",
    "load Frequencies.mat\n",
    "\n",
    "[z,nf,u36]=vtb7_4(Frequencies,x6,122,127)"
   ]
  },
  {
   "cell_type": "code",
   "execution_count": 16,
   "metadata": {},
   "outputs": [
    {
     "name": "stdout",
     "output_type": "stream",
     "text": [
      "\n",
      "z =\n",
      "\n",
      "    0.0056\n",
      "\n",
      "\n",
      "nf =\n",
      "\n",
      "  125.1333\n",
      "\n",
      "\n",
      "u35 =\n",
      "\n",
      " -37.0145 - 0.0000i\n",
      "\n"
     ]
    }
   ],
   "source": [
    "load FRF5.mat\n",
    "load Frequencies.mat\n",
    "\n",
    "[z,nf,u35]=vtb7_4(Frequencies,x5,122,127)"
   ]
  },
  {
   "cell_type": "code",
   "execution_count": 17,
   "metadata": {},
   "outputs": [
    {
     "name": "stdout",
     "output_type": "stream",
     "text": [
      "\n",
      "z =\n",
      "\n",
      "    0.0055\n",
      "\n",
      "\n",
      "nf =\n",
      "\n",
      "  125.1258\n",
      "\n",
      "\n",
      "u34 =\n",
      "\n",
      " -36.8711 + 0.0000i\n",
      "\n"
     ]
    }
   ],
   "source": [
    "load FRF4.mat\n",
    "load Frequencies.mat\n",
    "\n",
    "[z,nf,u34]=vtb7_4(Frequencies,x4,122,127)"
   ]
  },
  {
   "cell_type": "code",
   "execution_count": 18,
   "metadata": {},
   "outputs": [
    {
     "name": "stdout",
     "output_type": "stream",
     "text": [
      "\n",
      "z =\n",
      "\n",
      "    0.0055\n",
      "\n",
      "\n",
      "nf =\n",
      "\n",
      "  125.1617\n",
      "\n",
      "\n",
      "u33 =\n",
      "\n",
      "  51.5975 - 0.0000i\n",
      "\n"
     ]
    }
   ],
   "source": [
    "load FRF3.mat\n",
    "load Frequencies.mat\n",
    "\n",
    "[z,nf,u33]=vtb7_4(Frequencies,x3,122,127)"
   ]
  },
  {
   "cell_type": "code",
   "execution_count": 19,
   "metadata": {},
   "outputs": [
    {
     "name": "stdout",
     "output_type": "stream",
     "text": [
      "\n",
      "z =\n",
      "\n",
      "    0.0056\n",
      "\n",
      "\n",
      "nf =\n",
      "\n",
      "  125.1589\n",
      "\n",
      "\n",
      "u32 =\n",
      "\n",
      "  52.1832 + 0.0000i\n",
      "\n"
     ]
    }
   ],
   "source": [
    "load FRF2.mat\n",
    "load Frequencies.mat\n",
    "\n",
    "[z,nf,u32]=vtb7_4(Frequencies,x2,122,127)"
   ]
  },
  {
   "cell_type": "code",
   "execution_count": 20,
   "metadata": {},
   "outputs": [
    {
     "name": "stdout",
     "output_type": "stream",
     "text": [
      "\n",
      "z =\n",
      "\n",
      "    0.0054\n",
      "\n",
      "\n",
      "nf =\n",
      "\n",
      "  125.1159\n",
      "\n",
      "\n",
      "u31 =\n",
      "\n",
      "  52.8435 - 0.0000i\n",
      "\n"
     ]
    }
   ],
   "source": [
    "load FRF1.mat\n",
    "load Frequencies.mat\n",
    "\n",
    "[z,nf,u31]=vtb7_4(Frequencies,x1,122,127)"
   ]
  },
  {
   "cell_type": "code",
   "execution_count": 21,
   "metadata": {},
   "outputs": [
    {
     "name": "stdout",
     "output_type": "stream",
     "text": [
      "\n",
      "U3 =\n",
      "\n",
      "  52.8435 + 0.0000i\n",
      "  52.1832 - 0.0000i\n",
      "  51.5975 + 0.0000i\n",
      " -36.8711 - 0.0000i\n",
      " -37.0145 + 0.0000i\n",
      " -38.9035 - 0.0000i\n",
      " -33.8779 + 0.0000i\n",
      " -35.6752 + 0.0000i\n",
      " -34.0003 + 0.0000i\n",
      "  27.5315 - 0.0000i\n",
      "  28.0879 + 0.0000i\n",
      "  29.0961 - 0.0000i\n",
      "  33.4340 + 0.0000i\n",
      "  34.4364 + 0.0000i\n",
      "  32.7546 - 0.0000i\n",
      "  13.3552 + 0.0000i\n",
      "  20.3010 + 0.0000i\n",
      "  14.3314 - 0.0000i\n",
      "\n",
      "\n",
      "s =\n",
      "\n",
      "   52.8435\n",
      "   52.1832\n",
      "   51.5975\n",
      "  -36.8711\n",
      "  -37.0145\n",
      "  -38.9035\n",
      "  -33.8779\n",
      "  -35.6752\n",
      "  -34.0003\n",
      "   27.5315\n",
      "   28.0879\n",
      "   29.0961\n",
      "   33.4340\n",
      "   34.4364\n",
      "   32.7546\n",
      "   13.3552\n",
      "   20.3010\n",
      "   14.3314\n",
      "\n"
     ]
    }
   ],
   "source": [
    "U3=[u31 u32 u33 u34 u35 u36 u37 u38 u39 u310 u311 u312 u313 u314 u315 u316 u317 u318]'\n",
    "s=real(U3)"
   ]
  },
  {
   "cell_type": "code",
   "execution_count": 22,
   "metadata": {
    "collapsed": true
   },
   "outputs": [],
   "source": [
    "save 3rdNaturalFreq U3"
   ]
  },
  {
   "cell_type": "code",
   "execution_count": null,
   "metadata": {
    "collapsed": true
   },
   "outputs": [],
   "source": []
  }
 ],
 "metadata": {
  "kernelspec": {
   "display_name": "MATLAB",
   "language": "matlab",
   "name": "imatlab"
  },
  "language_info": {
   "codemirror_mode": "octave",
   "file_extension": ".m",
   "mimetype": "text/x-matlab",
   "name": "matlab",
   "nbconvert_exporter": "imatlab._exporter.MatlabExporter",
   "pygments_lexer": "matlab",
   "version": "9.2.0.556344 (R2017a)"
  }
 },
 "nbformat": 4,
 "nbformat_minor": 2
}
