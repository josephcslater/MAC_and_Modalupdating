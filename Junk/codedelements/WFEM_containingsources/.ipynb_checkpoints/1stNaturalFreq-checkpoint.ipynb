{
 "cells": [
  {
   "cell_type": "markdown",
   "metadata": {},
   "source": [
    "# Modal Analysis of a Wing"
   ]
  },
  {
   "cell_type": "code",
   "execution_count": 1,
   "metadata": {
    "collapsed": true
   },
   "outputs": [],
   "source": [
    "clear all\n",
    "close all\n",
    "clc\n",
    "%imatlab_export_fig('print-png')"
   ]
  },
  {
   "cell_type": "markdown",
   "metadata": {},
   "source": [
    "At first natural frequency for all 18 points on the wing\n",
    "--"
   ]
  },
  {
   "cell_type": "code",
   "execution_count": 2,
   "metadata": {
    "collapsed": true
   },
   "outputs": [],
   "source": [
    "load FRF17.mat\n",
    "load Frequencies.mat\n",
    "H=20*log10(abs(x17));% in dB\n",
    "f=Frequencies; % in Hz\n",
    "plot(f, H)"
   ]
  },
  {
   "cell_type": "code",
   "execution_count": 3,
   "metadata": {},
   "outputs": [
    {
     "name": "stdout",
     "output_type": "stream",
     "text": [
      "\n",
      "z =\n",
      "\n",
      "    0.0074\n",
      "\n",
      "\n",
      "nf =\n",
      "\n",
      "   13.7364\n",
      "\n",
      "\n",
      "u118 =\n",
      "\n",
      "   0.4700 - 0.0000i\n",
      "\n"
     ]
    }
   ],
   "source": [
    "load FRF18.mat\n",
    "load Frequencies.mat\n",
    "[z,nf,u118]=vtb7_4(Frequencies,x18,13.6,13.9)"
   ]
  },
  {
   "cell_type": "code",
   "execution_count": 4,
   "metadata": {},
   "outputs": [
    {
     "name": "stdout",
     "output_type": "stream",
     "text": [
      "\n",
      "z =\n",
      "\n",
      "    0.1275\n",
      "\n",
      "\n",
      "nf =\n",
      "\n",
      "   13.5039\n",
      "\n",
      "\n",
      "u117 =\n",
      "\n",
      "   3.7773 - 0.0000i\n",
      "\n"
     ]
    }
   ],
   "source": [
    "load FRF17.mat\n",
    "load Frequencies.mat\n",
    "[z,nf,u117]=vtb7_4(Frequencies,x17,10,15)"
   ]
  },
  {
   "cell_type": "code",
   "execution_count": 5,
   "metadata": {},
   "outputs": [
    {
     "name": "stdout",
     "output_type": "stream",
     "text": [
      "\n",
      "z =\n",
      "\n",
      "    0.0135\n",
      "\n",
      "\n",
      "nf =\n",
      "\n",
      "   13.5292\n",
      "\n",
      "\n",
      "u116 =\n",
      "\n",
      "  -1.3788 - 0.0000i\n",
      "\n"
     ]
    }
   ],
   "source": [
    "load FRF16.mat\n",
    "load Frequencies.mat\n",
    "\n",
    "[z,nf,u116]=vtb7_4(Frequencies,x16,13.3,14)"
   ]
  },
  {
   "cell_type": "code",
   "execution_count": 6,
   "metadata": {},
   "outputs": [
    {
     "name": "stdout",
     "output_type": "stream",
     "text": [
      "\n",
      "z =\n",
      "\n",
      "    0.0292\n",
      "\n",
      "\n",
      "nf =\n",
      "\n",
      "   13.4455\n",
      "\n",
      "\n",
      "u115 =\n",
      "\n",
      "   1.7186 + 0.0000i\n",
      "\n"
     ]
    }
   ],
   "source": [
    "load FRF15.mat\n",
    "load Frequencies.mat\n",
    "\n",
    "[z,nf,u115]=vtb7_4(Frequencies,x15,13.4,13.7)"
   ]
  },
  {
   "cell_type": "code",
   "execution_count": 7,
   "metadata": {},
   "outputs": [
    {
     "name": "stdout",
     "output_type": "stream",
     "text": [
      "\n",
      "z =\n",
      "\n",
      "    0.0294\n",
      "\n",
      "\n",
      "nf =\n",
      "\n",
      "   13.4505\n",
      "\n",
      "\n",
      "u114 =\n",
      "\n",
      "   2.0598 + 0.0000i\n",
      "\n"
     ]
    }
   ],
   "source": [
    "load FRF14.mat\n",
    "load Frequencies.mat\n",
    "\n",
    "[z,nf,u114]=vtb7_4(Frequencies,x14,13,14)"
   ]
  },
  {
   "cell_type": "code",
   "execution_count": 8,
   "metadata": {},
   "outputs": [
    {
     "name": "stdout",
     "output_type": "stream",
     "text": [
      "\n",
      "z =\n",
      "\n",
      "    0.0184\n",
      "\n",
      "\n",
      "nf =\n",
      "\n",
      "   13.4692\n",
      "\n",
      "\n",
      "u113 =\n",
      "\n",
      "   1.5121 - 0.0000i\n",
      "\n"
     ]
    }
   ],
   "source": [
    "load FRF13.mat\n",
    "load Frequencies.mat\n",
    "\n",
    "[z,nf,u113]=vtb7_4(Frequencies,x13,13.4,13.5)"
   ]
  },
  {
   "cell_type": "code",
   "execution_count": 9,
   "metadata": {},
   "outputs": [
    {
     "name": "stdout",
     "output_type": "stream",
     "text": [
      "\n",
      "z =\n",
      "\n",
      "    0.0149\n",
      "\n",
      "\n",
      "nf =\n",
      "\n",
      "   13.5526\n",
      "\n",
      "\n",
      "u112 =\n",
      "\n",
      "   2.0369 + 0.0000i\n",
      "\n"
     ]
    }
   ],
   "source": [
    "load FRF12.mat\n",
    "load Frequencies.mat\n",
    "\n",
    "[z,nf,u112]=vtb7_4(Frequencies,x12,13.4,13.8)"
   ]
  },
  {
   "cell_type": "code",
   "execution_count": 10,
   "metadata": {},
   "outputs": [
    {
     "name": "stdout",
     "output_type": "stream",
     "text": [
      "\n",
      "z =\n",
      "\n",
      "    0.0182\n",
      "\n",
      "\n",
      "nf =\n",
      "\n",
      "   13.5409\n",
      "\n",
      "\n",
      "u111 =\n",
      "\n",
      "   2.1815 - 0.0000i\n",
      "\n"
     ]
    }
   ],
   "source": [
    "load FRF11.mat\n",
    "load Frequencies.mat\n",
    "\n",
    "[z,nf,u111]=vtb7_4(Frequencies,x11,13.4,13.8)"
   ]
  },
  {
   "cell_type": "code",
   "execution_count": 11,
   "metadata": {},
   "outputs": [
    {
     "name": "stdout",
     "output_type": "stream",
     "text": [
      "\n",
      "z =\n",
      "\n",
      "    0.0270\n",
      "\n",
      "\n",
      "nf =\n",
      "\n",
      "   13.5159\n",
      "\n",
      "\n",
      "u110 =\n",
      "\n",
      "   2.2772 + 0.0000i\n",
      "\n"
     ]
    }
   ],
   "source": [
    "load FRF10.mat\n",
    "load Frequencies.mat\n",
    "\n",
    "[z,nf,u110]=vtb7_4(Frequencies,x10,13,14)"
   ]
  },
  {
   "cell_type": "code",
   "execution_count": 12,
   "metadata": {},
   "outputs": [
    {
     "name": "stdout",
     "output_type": "stream",
     "text": [
      "\n",
      "z =\n",
      "\n",
      "    0.0197\n",
      "\n",
      "\n",
      "nf =\n",
      "\n",
      "   13.5730\n",
      "\n",
      "\n",
      "u19 =\n",
      "\n",
      "   3.3037 + 0.0000i\n",
      "\n"
     ]
    }
   ],
   "source": [
    "load FRF9.mat\n",
    "load Frequencies.mat\n",
    "\n",
    "[z,nf,u19]=vtb7_4(Frequencies,x9,13.4,13.5)"
   ]
  },
  {
   "cell_type": "code",
   "execution_count": 13,
   "metadata": {},
   "outputs": [
    {
     "name": "stdout",
     "output_type": "stream",
     "text": [
      "\n",
      "z =\n",
      "\n",
      "    0.0200\n",
      "\n",
      "\n",
      "nf =\n",
      "\n",
      "   13.5517\n",
      "\n",
      "\n",
      "u18 =\n",
      "\n",
      "   3.3597 - 0.0000i\n",
      "\n"
     ]
    }
   ],
   "source": [
    "load FRF8.mat\n",
    "load Frequencies.mat\n",
    "\n",
    "[z,nf,u18]=vtb7_4(Frequencies,x8,13,14)"
   ]
  },
  {
   "cell_type": "code",
   "execution_count": 14,
   "metadata": {},
   "outputs": [
    {
     "name": "stdout",
     "output_type": "stream",
     "text": [
      "\n",
      "z =\n",
      "\n",
      "    0.0233\n",
      "\n",
      "\n",
      "nf =\n",
      "\n",
      "   13.5700\n",
      "\n",
      "\n",
      "u17 =\n",
      "\n",
      "   3.9124 - 0.0000i\n",
      "\n"
     ]
    }
   ],
   "source": [
    "load FRF7.mat\n",
    "load Frequencies.mat\n",
    "\n",
    "[z,nf,u17]=vtb7_4(Frequencies,x7,13.3,13.6)"
   ]
  },
  {
   "cell_type": "code",
   "execution_count": 15,
   "metadata": {},
   "outputs": [
    {
     "name": "stdout",
     "output_type": "stream",
     "text": [
      "\n",
      "z =\n",
      "\n",
      "    0.0193\n",
      "\n",
      "\n",
      "nf =\n",
      "\n",
      "   13.5755\n",
      "\n",
      "\n",
      "u16 =\n",
      "\n",
      "   4.1108 - 0.0000i\n",
      "\n"
     ]
    }
   ],
   "source": [
    "load FRF6.mat\n",
    "load Frequencies.mat\n",
    "\n",
    "[z,nf,u16]=vtb7_4(Frequencies,x6,13.4,13.5)"
   ]
  },
  {
   "cell_type": "code",
   "execution_count": 16,
   "metadata": {},
   "outputs": [
    {
     "name": "stdout",
     "output_type": "stream",
     "text": [
      "\n",
      "z =\n",
      "\n",
      "    0.0172\n",
      "\n",
      "\n",
      "nf =\n",
      "\n",
      "   13.5694\n",
      "\n",
      "\n",
      "u15 =\n",
      "\n",
      "   3.9937 + 0.0000i\n",
      "\n"
     ]
    }
   ],
   "source": [
    "load FRF5.mat\n",
    "load Frequencies.mat\n",
    "\n",
    "[z,nf,u15]=vtb7_4(Frequencies,x5,13.4,13.5)"
   ]
  },
  {
   "cell_type": "code",
   "execution_count": 17,
   "metadata": {},
   "outputs": [
    {
     "name": "stdout",
     "output_type": "stream",
     "text": [
      "\n",
      "z =\n",
      "\n",
      "    0.0150\n",
      "\n",
      "\n",
      "nf =\n",
      "\n",
      "   13.5423\n",
      "\n",
      "\n",
      "u14 =\n",
      "\n",
      "   3.5191 - 0.0000i\n",
      "\n"
     ]
    }
   ],
   "source": [
    "load FRF4.mat\n",
    "load Frequencies.mat\n",
    "\n",
    "[z,nf,u14]=vtb7_4(Frequencies,x4,13.4,13.5)"
   ]
  },
  {
   "cell_type": "code",
   "execution_count": 18,
   "metadata": {},
   "outputs": [
    {
     "name": "stdout",
     "output_type": "stream",
     "text": [
      "\n",
      "z =\n",
      "\n",
      "    0.0178\n",
      "\n",
      "\n",
      "nf =\n",
      "\n",
      "   13.5659\n",
      "\n",
      "\n",
      "u13 =\n",
      "\n",
      "   4.3684 - 0.0000i\n",
      "\n"
     ]
    }
   ],
   "source": [
    "load FRF3.mat\n",
    "load Frequencies.mat\n",
    "\n",
    "[z,nf,u13]=vtb7_4(Frequencies,x3,13.4,13.6)"
   ]
  },
  {
   "cell_type": "code",
   "execution_count": 19,
   "metadata": {},
   "outputs": [
    {
     "name": "stdout",
     "output_type": "stream",
     "text": [
      "\n",
      "z =\n",
      "\n",
      "    0.0184\n",
      "\n",
      "\n",
      "nf =\n",
      "\n",
      "   13.5557\n",
      "\n",
      "\n",
      "u12 =\n",
      "\n",
      "   4.6872 + 0.0000i\n",
      "\n"
     ]
    }
   ],
   "source": [
    "load FRF2.mat\n",
    "load Frequencies.mat\n",
    "\n",
    "[z,nf,u12]=vtb7_4(Frequencies,x2,13.4,13.5)"
   ]
  },
  {
   "cell_type": "code",
   "execution_count": 20,
   "metadata": {},
   "outputs": [
    {
     "name": "stdout",
     "output_type": "stream",
     "text": [
      "\n",
      "z =\n",
      "\n",
      "    0.0185\n",
      "\n",
      "\n",
      "nf =\n",
      "\n",
      "   13.5600\n",
      "\n",
      "\n",
      "u11 =\n",
      "\n",
      "   5.2417 - 0.0000i\n",
      "\n"
     ]
    }
   ],
   "source": [
    "load FRF1.mat\n",
    "load Frequencies.mat\n",
    "\n",
    "[z,nf,u11]=vtb7_4(Frequencies,x1,13.4,13.5)"
   ]
  },
  {
   "cell_type": "code",
   "execution_count": 21,
   "metadata": {},
   "outputs": [
    {
     "name": "stdout",
     "output_type": "stream",
     "text": [
      "\n",
      "U1 =\n",
      "\n",
      "   5.2417 + 0.0000i\n",
      "   4.6872 - 0.0000i\n",
      "   4.3684 + 0.0000i\n",
      "   3.5191 + 0.0000i\n",
      "   3.9937 - 0.0000i\n",
      "   4.1108 + 0.0000i\n",
      "   3.9124 + 0.0000i\n",
      "   3.3597 + 0.0000i\n",
      "   3.3037 - 0.0000i\n",
      "   2.2772 - 0.0000i\n",
      "   2.1815 + 0.0000i\n",
      "   2.0369 - 0.0000i\n",
      "   1.5121 + 0.0000i\n",
      "   2.0598 - 0.0000i\n",
      "   1.7186 - 0.0000i\n",
      "  -1.3788 + 0.0000i\n",
      "   3.7773 + 0.0000i\n",
      "   0.4700 + 0.0000i\n",
      "\n",
      "\n",
      "s =\n",
      "\n",
      "    5.2417\n",
      "    4.6872\n",
      "    4.3684\n",
      "    3.5191\n",
      "    3.9937\n",
      "    4.1108\n",
      "    3.9124\n",
      "    3.3597\n",
      "    3.3037\n",
      "    2.2772\n",
      "    2.1815\n",
      "    2.0369\n",
      "    1.5121\n",
      "    2.0598\n",
      "    1.7186\n",
      "   -1.3788\n",
      "    3.7773\n",
      "    0.4700\n",
      "\n"
     ]
    }
   ],
   "source": [
    "U1=[u11 u12 u13 u14 u15 u16 u17 u18 u19 u110 u111 u112 u113 u114 u115 u116 u117 u118]'\n",
    "s=real(U1)"
   ]
  },
  {
   "cell_type": "code",
   "execution_count": 22,
   "metadata": {
    "collapsed": true
   },
   "outputs": [],
   "source": [
    "save 1stNaturalFreq U1"
   ]
  },
  {
   "cell_type": "code",
   "execution_count": null,
   "metadata": {
    "collapsed": true
   },
   "outputs": [],
   "source": []
  }
 ],
 "metadata": {
  "kernelspec": {
   "display_name": "MATLAB",
   "language": "matlab",
   "name": "imatlab"
  },
  "language_info": {
   "codemirror_mode": "octave",
   "file_extension": ".m",
   "mimetype": "text/x-matlab",
   "name": "matlab",
   "nbconvert_exporter": "imatlab._exporter.MatlabExporter",
   "pygments_lexer": "matlab",
   "version": "9.2.0.556344 (R2017a)"
  }
 },
 "nbformat": 4,
 "nbformat_minor": 2
}
