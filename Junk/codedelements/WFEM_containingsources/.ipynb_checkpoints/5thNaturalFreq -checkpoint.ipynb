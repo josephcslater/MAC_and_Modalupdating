{
 "cells": [
  {
   "cell_type": "markdown",
   "metadata": {},
   "source": [
    "# Modal Analysis of a Wing"
   ]
  },
  {
   "cell_type": "code",
   "execution_count": 1,
   "metadata": {
    "collapsed": true
   },
   "outputs": [],
   "source": [
    "clear all\n",
    "close all\n",
    "clc\n",
    "%imatlab_export_fig('print-png')"
   ]
  },
  {
   "cell_type": "markdown",
   "metadata": {},
   "source": [
    "At first natural frequency for all 18 points on the wing\n",
    "--"
   ]
  },
  {
   "cell_type": "code",
   "execution_count": 2,
   "metadata": {
    "collapsed": true
   },
   "outputs": [],
   "source": [
    "load FRF17.mat\n",
    "load Frequencies.mat\n",
    "H=20*log10(abs(x17));% in dB\n",
    "f=Frequencies; % in Hz\n",
    "plot(f, H)"
   ]
  },
  {
   "cell_type": "code",
   "execution_count": 3,
   "metadata": {},
   "outputs": [
    {
     "name": "stdout",
     "output_type": "stream",
     "text": [
      "\n",
      "z =\n",
      "\n",
      "    0.0087\n",
      "\n",
      "\n",
      "nf =\n",
      "\n",
      "  228.1232\n",
      "\n",
      "\n",
      "u518 =\n",
      "\n",
      " -29.1047 + 0.0000i\n",
      "\n"
     ]
    }
   ],
   "source": [
    "load FRF18.mat\n",
    "load Frequencies.mat\n",
    "[z,nf,u518]=vtb7_4(Frequencies,x18,225,230)"
   ]
  },
  {
   "cell_type": "code",
   "execution_count": 4,
   "metadata": {},
   "outputs": [
    {
     "name": "stdout",
     "output_type": "stream",
     "text": [
      "\n",
      "z =\n",
      "\n",
      "    0.0111\n",
      "\n",
      "\n",
      "nf =\n",
      "\n",
      "  227.6162\n",
      "\n",
      "\n",
      "u517 =\n",
      "\n",
      " -33.6951 + 0.0000i\n",
      "\n"
     ]
    }
   ],
   "source": [
    "load FRF17.mat\n",
    "load Frequencies.mat\n",
    "\n",
    "[z,nf,u517]=vtb7_4(Frequencies,x17,225.5,230)"
   ]
  },
  {
   "cell_type": "code",
   "execution_count": 5,
   "metadata": {},
   "outputs": [
    {
     "name": "stdout",
     "output_type": "stream",
     "text": [
      "\n",
      "z =\n",
      "\n",
      "    0.0045\n",
      "\n",
      "\n",
      "nf =\n",
      "\n",
      "  227.8826\n",
      "\n",
      "\n",
      "u516 =\n",
      "\n",
      " -19.3185 + 0.0000i\n",
      "\n"
     ]
    }
   ],
   "source": [
    "load FRF16.mat\n",
    "load Frequencies.mat\n",
    "\n",
    "[z,nf,u516]=vtb7_4(Frequencies,x16,227.5,228)"
   ]
  },
  {
   "cell_type": "code",
   "execution_count": 6,
   "metadata": {},
   "outputs": [
    {
     "name": "stdout",
     "output_type": "stream",
     "text": [
      "\n",
      "z =\n",
      "\n",
      "    0.0114\n",
      "\n",
      "\n",
      "nf =\n",
      "\n",
      "  228.4186\n",
      "\n",
      "\n",
      "u515 =\n",
      "\n",
      " -52.4265 - 0.0000i\n",
      "\n"
     ]
    }
   ],
   "source": [
    "load FRF15.mat\n",
    "load Frequencies.mat\n",
    "\n",
    "[z,nf,u515]=vtb7_4(Frequencies,x15,226,229)"
   ]
  },
  {
   "cell_type": "code",
   "execution_count": 7,
   "metadata": {},
   "outputs": [
    {
     "name": "stdout",
     "output_type": "stream",
     "text": [
      "\n",
      "z =\n",
      "\n",
      "    0.0099\n",
      "\n",
      "\n",
      "nf =\n",
      "\n",
      "  228.0027\n",
      "\n",
      "\n",
      "u514 =\n",
      "\n",
      " -51.9826 + 0.0000i\n",
      "\n"
     ]
    }
   ],
   "source": [
    "load FRF14.mat\n",
    "load Frequencies.mat\n",
    "\n",
    "[z,nf,u514]=vtb7_4(Frequencies,x14,226,229)"
   ]
  },
  {
   "cell_type": "code",
   "execution_count": 8,
   "metadata": {},
   "outputs": [
    {
     "name": "stdout",
     "output_type": "stream",
     "text": [
      "\n",
      "z =\n",
      "\n",
      "    0.0104\n",
      "\n",
      "\n",
      "nf =\n",
      "\n",
      "  228.3155\n",
      "\n",
      "\n",
      "u513 =\n",
      "\n",
      " -59.0174 + 0.0000i\n",
      "\n"
     ]
    }
   ],
   "source": [
    "load FRF13.mat\n",
    "load Frequencies.mat\n",
    "\n",
    "[z,nf,u513]=vtb7_4(Frequencies,x13,226,230)"
   ]
  },
  {
   "cell_type": "code",
   "execution_count": 9,
   "metadata": {},
   "outputs": [
    {
     "name": "stdout",
     "output_type": "stream",
     "text": [
      "\n",
      "z =\n",
      "\n",
      "    0.0112\n",
      "\n",
      "\n",
      "nf =\n",
      "\n",
      "  227.5572\n",
      "\n",
      "\n",
      "u512 =\n",
      "\n",
      "  42.3367 + 0.0000i\n",
      "\n"
     ]
    }
   ],
   "source": [
    "load FRF12.mat\n",
    "load Frequencies.mat\n",
    "\n",
    "[z,nf,u512]=vtb7_4(Frequencies,x12,226,230)"
   ]
  },
  {
   "cell_type": "code",
   "execution_count": 10,
   "metadata": {},
   "outputs": [
    {
     "name": "stdout",
     "output_type": "stream",
     "text": [
      "\n",
      "z =\n",
      "\n",
      "    0.0118\n",
      "\n",
      "\n",
      "nf =\n",
      "\n",
      "  228.2243\n",
      "\n",
      "\n",
      "u511 =\n",
      "\n",
      "  46.5489 + 0.0000i\n",
      "\n"
     ]
    }
   ],
   "source": [
    "load FRF11.mat\n",
    "load Frequencies.mat\n",
    "\n",
    "[z,nf,u511]=vtb7_4(Frequencies,x11,225,228)"
   ]
  },
  {
   "cell_type": "code",
   "execution_count": 11,
   "metadata": {},
   "outputs": [
    {
     "name": "stdout",
     "output_type": "stream",
     "text": [
      "\n",
      "z =\n",
      "\n",
      "    0.0119\n",
      "\n",
      "\n",
      "nf =\n",
      "\n",
      "  228.2293\n",
      "\n",
      "\n",
      "u510 =\n",
      "\n",
      "  50.4956 - 0.0000i\n",
      "\n"
     ]
    }
   ],
   "source": [
    "load FRF10.mat\n",
    "load Frequencies.mat\n",
    "\n",
    "[z,nf,u510]=vtb7_4(Frequencies,x10,225,228)"
   ]
  },
  {
   "cell_type": "code",
   "execution_count": 12,
   "metadata": {},
   "outputs": [
    {
     "name": "stdout",
     "output_type": "stream",
     "text": [
      "\n",
      "z =\n",
      "\n",
      "    0.0087\n",
      "\n",
      "\n",
      "nf =\n",
      "\n",
      "  227.9269\n",
      "\n",
      "\n",
      "u59 =\n",
      "\n",
      "  41.5272 - 0.0000i\n",
      "\n"
     ]
    }
   ],
   "source": [
    "load FRF9.mat\n",
    "load Frequencies.mat\n",
    "\n",
    "[z,nf,u59]=vtb7_4(Frequencies,x9,225,228)"
   ]
  },
  {
   "cell_type": "code",
   "execution_count": 13,
   "metadata": {},
   "outputs": [
    {
     "name": "stdout",
     "output_type": "stream",
     "text": [
      "\n",
      "z =\n",
      "\n",
      "    0.0100\n",
      "\n",
      "\n",
      "nf =\n",
      "\n",
      "  228.2267\n",
      "\n",
      "\n",
      "u58 =\n",
      "\n",
      "  46.8134 - 0.0000i\n",
      "\n"
     ]
    }
   ],
   "source": [
    "load FRF8.mat\n",
    "load Frequencies.mat\n",
    "\n",
    "[z,nf,u58]=vtb7_4(Frequencies,x8,224,228)"
   ]
  },
  {
   "cell_type": "code",
   "execution_count": 14,
   "metadata": {},
   "outputs": [
    {
     "name": "stdout",
     "output_type": "stream",
     "text": [
      "\n",
      "z =\n",
      "\n",
      "    0.0066\n",
      "\n",
      "\n",
      "nf =\n",
      "\n",
      "  227.7479\n",
      "\n",
      "\n",
      "u57 =\n",
      "\n",
      "  30.7162 - 0.0000i\n",
      "\n"
     ]
    }
   ],
   "source": [
    "load FRF7.mat\n",
    "load Frequencies.mat\n",
    "\n",
    "[z,nf,u57]=vtb7_4(Frequencies,x7,227,229)"
   ]
  },
  {
   "cell_type": "code",
   "execution_count": 15,
   "metadata": {},
   "outputs": [
    {
     "name": "stdout",
     "output_type": "stream",
     "text": [
      "\n",
      "z =\n",
      "\n",
      "    0.0108\n",
      "\n",
      "\n",
      "nf =\n",
      "\n",
      "  228.4824\n",
      "\n",
      "\n",
      "u56 =\n",
      "\n",
      " -68.4836 + 0.0000i\n",
      "\n"
     ]
    }
   ],
   "source": [
    "load FRF6.mat\n",
    "load Frequencies.mat\n",
    "\n",
    "[z,nf,u56]=vtb7_4(Frequencies,x6,225,230)"
   ]
  },
  {
   "cell_type": "code",
   "execution_count": 16,
   "metadata": {},
   "outputs": [
    {
     "name": "stdout",
     "output_type": "stream",
     "text": [
      "\n",
      "z =\n",
      "\n",
      "    0.0101\n",
      "\n",
      "\n",
      "nf =\n",
      "\n",
      "  228.1344\n",
      "\n",
      "\n",
      "u55 =\n",
      "\n",
      " -65.7808 + 0.0000i\n",
      "\n"
     ]
    }
   ],
   "source": [
    "load FRF5.mat\n",
    "load Frequencies.mat\n",
    "\n",
    "[z,nf,u55]=vtb7_4(Frequencies,x5,225,230)"
   ]
  },
  {
   "cell_type": "code",
   "execution_count": 17,
   "metadata": {},
   "outputs": [
    {
     "name": "stdout",
     "output_type": "stream",
     "text": [
      "\n",
      "z =\n",
      "\n",
      "    0.0119\n",
      "\n",
      "\n",
      "nf =\n",
      "\n",
      "  228.2047\n",
      "\n",
      "\n",
      "u54 =\n",
      "\n",
      " -75.9709 - 0.0000i\n",
      "\n"
     ]
    }
   ],
   "source": [
    "load FRF4.mat\n",
    "load Frequencies.mat\n",
    "\n",
    "[z,nf,u54]=vtb7_4(Frequencies,x4,225,230)"
   ]
  },
  {
   "cell_type": "code",
   "execution_count": 18,
   "metadata": {},
   "outputs": [
    {
     "name": "stdout",
     "output_type": "stream",
     "text": [
      "\n",
      "z =\n",
      "\n",
      "    0.0120\n",
      "\n",
      "\n",
      "nf =\n",
      "\n",
      "  228.0709\n",
      "\n",
      "\n",
      "u53 =\n",
      "\n",
      "  69.2668 + 0.0000i\n",
      "\n"
     ]
    }
   ],
   "source": [
    "load FRF3.mat\n",
    "load Frequencies.mat\n",
    "\n",
    "[z,nf,u53]=vtb7_4(Frequencies,x3,225,229)"
   ]
  },
  {
   "cell_type": "code",
   "execution_count": 19,
   "metadata": {},
   "outputs": [
    {
     "name": "stdout",
     "output_type": "stream",
     "text": [
      "\n",
      "z =\n",
      "\n",
      "    0.0094\n",
      "\n",
      "\n",
      "nf =\n",
      "\n",
      "  227.7098\n",
      "\n",
      "\n",
      "u52 =\n",
      "\n",
      "  71.4115 - 0.0000i\n",
      "\n"
     ]
    }
   ],
   "source": [
    "load FRF2.mat\n",
    "load Frequencies.mat\n",
    "\n",
    "[z,nf,u52]=vtb7_4(Frequencies,x2,228,230)"
   ]
  },
  {
   "cell_type": "code",
   "execution_count": 20,
   "metadata": {},
   "outputs": [
    {
     "name": "stdout",
     "output_type": "stream",
     "text": [
      "\n",
      "z =\n",
      "\n",
      "    0.0094\n",
      "\n",
      "\n",
      "nf =\n",
      "\n",
      "  227.3527\n",
      "\n",
      "\n",
      "u51 =\n",
      "\n",
      "  71.1391 + 0.0000i\n",
      "\n"
     ]
    }
   ],
   "source": [
    "load FRF1.mat\n",
    "load Frequencies.mat\n",
    "\n",
    "[z,nf,u51]=vtb7_4(Frequencies,x1,227,228.3)"
   ]
  },
  {
   "cell_type": "code",
   "execution_count": 21,
   "metadata": {},
   "outputs": [
    {
     "name": "stdout",
     "output_type": "stream",
     "text": [
      "\n",
      "U5 =\n",
      "\n",
      "  71.1391 - 0.0000i\n",
      "  71.4115 + 0.0000i\n",
      "  69.2668 - 0.0000i\n",
      " -75.9709 + 0.0000i\n",
      " -65.7808 - 0.0000i\n",
      " -68.4836 - 0.0000i\n",
      "  30.7162 + 0.0000i\n",
      "  46.8134 + 0.0000i\n",
      "  41.5272 + 0.0000i\n",
      "  50.4956 + 0.0000i\n",
      "  46.5489 - 0.0000i\n",
      "  42.3367 - 0.0000i\n",
      " -59.0174 - 0.0000i\n",
      " -51.9826 - 0.0000i\n",
      " -52.4265 + 0.0000i\n",
      " -19.3185 - 0.0000i\n",
      " -33.6951 - 0.0000i\n",
      " -29.1047 - 0.0000i\n",
      "\n",
      "\n",
      "s =\n",
      "\n",
      "   71.1391\n",
      "   71.4115\n",
      "   69.2668\n",
      "  -75.9709\n",
      "  -65.7808\n",
      "  -68.4836\n",
      "   30.7162\n",
      "   46.8134\n",
      "   41.5272\n",
      "   50.4956\n",
      "   46.5489\n",
      "   42.3367\n",
      "  -59.0174\n",
      "  -51.9826\n",
      "  -52.4265\n",
      "  -19.3185\n",
      "  -33.6951\n",
      "  -29.1047\n",
      "\n"
     ]
    }
   ],
   "source": [
    "U5=[u51 u52 u53 u54 u55 u56 u57 u58 u59 u510 u511 u512 u513 u514 u515 u516 u517 u518]'\n",
    "s=real(U5)"
   ]
  },
  {
   "cell_type": "code",
   "execution_count": 22,
   "metadata": {
    "collapsed": true
   },
   "outputs": [],
   "source": [
    "save 5thNaturalFreq U5"
   ]
  },
  {
   "cell_type": "code",
   "execution_count": null,
   "metadata": {
    "collapsed": true
   },
   "outputs": [],
   "source": []
  }
 ],
 "metadata": {
  "kernelspec": {
   "display_name": "MATLAB",
   "language": "matlab",
   "name": "imatlab"
  },
  "language_info": {
   "codemirror_mode": "octave",
   "file_extension": ".m",
   "mimetype": "text/x-matlab",
   "name": "matlab",
   "nbconvert_exporter": "imatlab._exporter.MatlabExporter",
   "pygments_lexer": "matlab",
   "version": "9.2.0.556344 (R2017a)"
  }
 },
 "nbformat": 4,
 "nbformat_minor": 2
}
